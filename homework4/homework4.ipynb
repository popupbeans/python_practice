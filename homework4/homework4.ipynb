{
 "cells": [
  {
   "cell_type": "markdown",
   "metadata": {},
   "source": [
    "<h3>課題4 : コンピューターと野球ゲーム</h3>\n",
    "<h4>コンピューターと遊ぶ野球ゲームを作りましょう。</h4>\n",
    "\n",
    "これから作成するゲームのルールを説明します。<br/>\n",
    "\n",
    "コンピューターはまず皆さんの為に、3桁の数（問題）を生成します。（コンピューターは「問題」を見せてくれません。）<br/>\n",
    "\n",
    "ゲーム参加者が3桁の数を入力するとコンピューターは「問題」と1桁づつ比較し、<br/>\n",
    "\n",
    "- ゲームユーザが入力した数が、「問題」にもある、しかし位置が違う場合は、「ボール」と言ってくれます。\n",
    "- ゲームユーザが入力した数が、「問題」にもある、且つ位置も同じ場合は、「ストライク」と言ってくれます。\n",
    "\n",
    "例えば、コンピューターが生成した「問題」が「156」の場合、<br/>\n",
    "<br/>\n",
    "ユーザインプット　：　123<br/>\n",
    "コンピューターの答え　：　1 ストライク、0 ボール<br/>\n",
    "<br/>\n",
    "ユーザインプット　：　542<br/>\n",
    "コンピューターの答え　：　0 ストライク、1 ボール<br/>\n",
    "<br/>\n",
    "ユーザインプット　：　657<br/>\n",
    "コンピューターの答え　：　1 ストライク、1 ボール<br/>\n",
    "<br/>\n",
    "ユーザインプット　：　615<br/>\n",
    "コンピューターの答え　：　0 ストライク、3 ボール<br/>\n",
    "<br/>\n",
    "ユーザインプット　：　956<br/>\n",
    "コンピューターの答え　：　2 ストライク、0 ボール<br/>\n",
    "<br/>\n",
    "ユーザインプット　：　156<br/>\n",
    "コンピューターの答え　：　3 ストライク、0 ボール<br/>\n",
    "<br/>\n",
    "になります。3 ストライク（三振）が出たら、ユーザの勝ちでゲームは終了します。\n",
    "<br/>\n",
    "\n",
    "<h4>課題</h4>\n",
    "「genQuestion」、「umpire」関数を作成し、ゲームを完成しましょう。\n",
    "\n",
    "<h4>注意：</h4>\n",
    "\n",
    "- 「問題」の3桁の数の中で、同じ数が2回以上出ることはありません。<br/>\n",
    "- 以下の部分のみコードを書いてください。他の部分は修正しないでください。<br/>\n",
    "\n",
    "<p># ---- Coding Start ----</p>\n",
    "\n",
    "<p># ---- Coding End ----</p>"
   ]
  },
  {
   "cell_type": "code",
   "execution_count": 112,
   "metadata": {},
   "outputs": [],
   "source": [
    "import random\n",
    "\n",
    "def genQuestion():\n",
    "    \n",
    "    question = []\n",
    "    \n",
    "    # ---- Coding Start ----\n",
    "    # Generate an integer list of length 3 and assign it to question\n",
    "\n",
    "    \n",
    "    # ---- Coding End ----   \n",
    "    \n",
    "    return question\n",
    "\n",
    "\n",
    "def umpire(userInput, question):\n",
    "    strike = 0\n",
    "    ball = 0\n",
    "    \n",
    "    userInputList = list(map(int,userInput))\n",
    "    # ---- Coding Start ----\n",
    "\n",
    "    \n",
    "    # ---- Coding End ----\n",
    "    \n",
    "    return strike, ball\n"
   ]
  },
  {
   "cell_type": "code",
   "execution_count": null,
   "metadata": {},
   "outputs": [
    {
     "name": "stdout",
     "output_type": "stream",
     "text": [
      "Input any three digit number : \n"
     ]
    }
   ],
   "source": [
    "maxTry = 10\n",
    "question = genQuestion()\n",
    "\n",
    "counter = 0\n",
    "while counter < maxTry:\n",
    "    print(\"Input any three digit number : \")\n",
    "    userInput = input()\n",
    "    \n",
    "    if len(userInput) is not 3:\n",
    "        print(\"Wrong number.\")\n",
    "    else:\n",
    "        strike, ball = umpire(userInput, question)\n",
    "\n",
    "        print(strike, \"Strikes, \", ball, \"Balls\")\n",
    "\n",
    "        if strike == 3:\n",
    "            print(\"You win! You have found the question number\",''.join(str(x) for x in question),\".\")\n",
    "            break\n",
    "\n",
    "        counter = counter + 1\n",
    "        print(\" \")\n",
    "    \n",
    "if counter >= maxTry:\n",
    "    print(\"You lost! You could not find the question number.\")"
   ]
  },
  {
   "cell_type": "code",
   "execution_count": null,
   "metadata": {},
   "outputs": [],
   "source": []
  },
  {
   "cell_type": "code",
   "execution_count": null,
   "metadata": {},
   "outputs": [],
   "source": []
  }
 ],
 "metadata": {
  "kernelspec": {
   "display_name": "Python 3",
   "language": "python",
   "name": "python3"
  },
  "language_info": {
   "codemirror_mode": {
    "name": "ipython",
    "version": 3
   },
   "file_extension": ".py",
   "mimetype": "text/x-python",
   "name": "python",
   "nbconvert_exporter": "python",
   "pygments_lexer": "ipython3",
   "version": "3.7.3"
  }
 },
 "nbformat": 4,
 "nbformat_minor": 2
}
