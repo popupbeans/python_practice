{
 "cells": [
  {
   "cell_type": "markdown",
   "metadata": {},
   "source": [
    "<h3>機械学習課題 10 : Logistic Regression ロジスティック回帰 Part 3 - Practice 練習</h3><br/>\n",
    "\n",
    "<h4>注意 : pythonコードを実行しながら読んでください!</h4><br/>\n",
    "\n",
    "今回は、今まで皆さんが作成したロジスティック回帰(Logistic Regression)処理用のソースコードを活用して、機械学習で実際の問題を解決する練習をしてみましょう。\n",
    "\n",
    "<h3>これから皆さんはある会社のプロダクト品質管理マネージャーです。</h3>\n",
    "\n",
    "プロダクトの高い品質を維持するにはたくさんの種類のテストが必要で、かなりの費用が発生しています。多分、マネージャーであるあなたは上司からのテスト費用削減の圧迫で、毎晩眠れない日々を過ごしていると思います。\n",
    "\n",
    "ある日、あなたは一つ面白いことに着目します。もし、たくさんのテストの中で、一部だけでも良品と不良品の判別が十分可能であれば、それ以外のテストは全部無くしてもいいのではないかと。\n",
    "\n",
    "早速、あなたは今までのテストデータの分析を始めます。そして、一つ面白いことを見つけます。色んなテスト項目の中、$X1$と$X2$という二つのテストのスコアの組み合わせと、良品・不良品データと比較してみたら、あるパターンが見えて来ました。データをグラフで可視化して見るとその意味が分かります。\n",
    "\n",
    "<h4>以下のコードを実行してグラフを確認してください。（マルは良品、バツは不良品です。）</h4>"
   ]
  },
  {
   "cell_type": "code",
   "execution_count": null,
   "metadata": {},
   "outputs": [],
   "source": [
    "#import required libraries\n",
    "import pandas as pd\n",
    "import numpy as np\n",
    "import matplotlib.pyplot as plt\n",
    "from mpl_toolkits.mplot3d import Axes3D\n",
    "from scipy.optimize import minimize\n",
    "from sklearn.preprocessing import PolynomialFeatures\n",
    "\n",
    "#read learning data X and Y\n",
    "data = np.loadtxt('ex10data1.txt', delimiter=',')\n",
    "\n",
    "negative = data[:,2] == 0\n",
    "positive = data[:,2] == 1\n",
    "\n",
    "plt.scatter(data[positive][:,0],data[positive][:,1], marker = 'o', c = 'r')\n",
    "plt.scatter(data[negative][:,0],data[negative][:,1], marker = 'x', c = 'b')\n",
    "plt.xlabel('X1')\n",
    "plt.ylabel('X2')"
   ]
  },
  {
   "cell_type": "markdown",
   "metadata": {},
   "source": [
    "<h4>これ、確かに面白い形ですね。</h4>\n",
    "\n",
    "良品のデータ（赤いマル）がグラフの真ん中に集まっています。それを不良品データ（青いバツ）が囲む形で集まっていますね。ここで、もし良品データと不良品データが分離できる決定境界 (decision boundary)が見つかるのであれば、$X1$と$X2$のテスト結果だけでも良品か不良品かの判断ができるようになります。\n",
    "\n",
    "<h4>これはすごいことです。</h4>\n",
    "\n",
    "あなたは決定境界 (decision boundary)を見つけるために、前回の課題で実施していた内容を思い出します。しかし、前回作成したコードをそのまま使ってみようとしたら、一つの課題にぶつかります。\n",
    "\n",
    "前回は一次方程式で表現した直線の形の決定境界 (decision boundary)だったとすると、今回は円の形、しかもキレイな円でもなく、凸凹が含まれそうな形にならないと良品のグループと不良品のグループを分離することができないことに気づきました。これは残念ですね。\n",
    "\n",
    "でもここで諦めることはしません。あなたは数学が得意な友達のKikiちゃん（一回目の課題以来、久しぶりです。）に聞いてみることにします。早速電話し、彼女から一つのヒントをもらいました。\n",
    "\n",
    "このヒントというのは、多項式を使って、インプットから生成されるアウトプットがもっと色んな値になれるようにしてあげることで解決できるかもしれないことです。具体的には、$X1$、$X2$から\n",
    "\n",
    "$$1, X1, X2, X1X2, X1^{2}, X2^{2}, X1^{2}X2, X1X2^{2}, X1^{2}X2^{2}, ... , X1^{n}X2^{n}$$\n",
    "\n",
    "のような$n$乗までの変数の組み合わせで式（$n$次方程式）を構築することです。つまり、方程式の計算結果のパターンが、単純な直線或いは曲線ではなく、もっと色んな形になれる意味です。\n",
    "\n",
    "上のように、ある変数のグループから$n$次方程式に必要な変数の組み合わせに変換するのはsklearnライブラリーのPolynomialFeaturesという関数を使えば簡単にできます。問題を解決する決定境界 (decision boundary)を見つけるために、今回は6次方程式で進めてみましょう。もともと2次元の$X1$、$X2$の二つの変数から6次方程式を作ろうとするとPolynomialFeatures関数は28次元に変換してくれます。"
   ]
  },
  {
   "cell_type": "code",
   "execution_count": null,
   "metadata": {},
   "outputs": [],
   "source": [
    "# Change data form for matrix calculation\n",
    "# Get X with transformed features degree of 6 -> Generates 28 demensional data from 2 demensions\n",
    "poly = PolynomialFeatures(6)\n",
    "X = poly.fit_transform(data[:,0:2])\n",
    "# Get Y\n",
    "Y = np.c_[data[:,2]]\n",
    "\n",
    "print(\"Previsou demension : \",data[:,0:2].shape)\n",
    "print(\"New demension : \",X.shape)"
   ]
  },
  {
   "cell_type": "markdown",
   "metadata": {},
   "source": [
    "いかがでしょうか。118個のデータが全部28次元に変換されていることが確認できましたか。この新しい$X$と既存の$Y$をこれから学習処理で使う予定です。\n",
    "\n",
    "ちなみに、皆さんが上のコードを正しく理解したのか簡単にテストしてみます。\n",
    "\n",
    "<h3>ここで課題です。PolynomialFeatures関数のアウトプットを自分で計算してみてください。</h3>\n",
    "\n",
    "必要なライブラリは最初にimportしておきますので、使ってください。<br/>\n",
    "\n",
    "<h4>コード作成後、実行すると、自動採点を行います。$Correct$が表示されると成功です。</h4>\n",
    "\n",
    "<h4>注意：</h4>\n",
    "\n",
    "- 以下の部分にコードを書いてください。（yourAnswer Listの値を自分で計算してコードに入力してください。）\n",
    "\n",
    "#------- Coding Start -------\n",
    "#------- Coding End -------\n",
    "\n",
    "- yourAnswer Listの値の順番はtestResultと一致しなくてもいいことにします。"
   ]
  },
  {
   "cell_type": "code",
   "execution_count": null,
   "metadata": {},
   "outputs": [],
   "source": [
    "testInput = [[3,4]]\n",
    "testPoly = PolynomialFeatures(2)\n",
    "testResult = testPoly.fit_transform(testInput)\n",
    "\n",
    "yourAnswer = [0, 0, 0, 0, 0, 0]\n",
    "\n",
    "#------- Coding Start -------\n",
    "yourAnswer[0] = 0     # <-- replace this value\n",
    "yourAnswer[1] = 0     # <-- replace this value\n",
    "yourAnswer[2] = 0     # <-- replace this value\n",
    "yourAnswer[3] = 0     # <-- replace this value\n",
    "yourAnswer[4] = 0     # <-- replace this value\n",
    "yourAnswer[5] = 0     # <-- replace this value\n",
    "#------- Coding End -------\n",
    "\n",
    "#-----------------------------------------------------------\n",
    "# Evaluation\n",
    "#-----------------------------------------------------------\n",
    "print(\"Your Answer : Correct\") if sorted(testResult[0]) == sorted(yourAnswer) else print(\"Your Answer : Wrong\")"
   ]
  },
  {
   "cell_type": "markdown",
   "metadata": {},
   "source": [
    "結果はいかがでしょうか。簡単でしょう。\n",
    "\n",
    "<h3>これから、本格的に機械学習コードを作成してみます。前回作成した以下の3個の関数を全部こちらに持ってきてください。</h3>\n",
    "\n",
    "- sigmoid\n",
    "- costFunction\n",
    "- gradientDescentForMinimize\n",
    "\n",
    "<h4>コード作成後、実行すると、自動採点を行います。$Correct$が表示されると成功です。</h4>\n",
    "\n",
    "<h4>注意：</h4>\n",
    "\n",
    "- 以下の部分にコードを書いてください。\n",
    "\n",
    "#------- Coding Start -------\n",
    "#------- Coding End -------"
   ]
  },
  {
   "cell_type": "code",
   "execution_count": null,
   "metadata": {},
   "outputs": [],
   "source": [
    "# Sigmoid Function\n",
    "# ------- Coding Start ------- \n",
    "\n",
    "# ------- Coding End -------\n",
    "\n",
    "# Cost Function\n",
    "# ------- Coding Start -------\n",
    "\n",
    "# ------- Coding End -------\n",
    "\n",
    "# Gradient Descent Function\n",
    "# ------- Coding Start -------\n",
    "\n",
    "# ------- Coding End -------\n",
    "\n",
    "# Call minimize function - Learning by minimize function from Scikit\n",
    "init_theta = np.zeros(X.shape[1])\n",
    "res = minimize(costFunction, init_theta, args=(X,Y), method=None, jac=gradientDescentForMinimize, options={'maxiter':3000})\n",
    "\n",
    "print(\"Learning result -> theta : \", res.x)\n",
    "\n",
    "#-----------------------------------------------------------\n",
    "# Evaluation\n",
    "#-----------------------------------------------------------\n",
    "def evaluate(theta0, min, max):\n",
    "    print(\"theta0 = \", theta0, \" => Correct\") if theta0 >= min and theta0 <= max else print(\"theta0 = \", theta0, \" => Wrong\")\n",
    "    \n",
    "evaluate(res.x[0],35.101910585768,35.101910585769)"
   ]
  },
  {
   "cell_type": "markdown",
   "metadata": {},
   "source": [
    "いかがでしょうか。これで仮定関数の作成に必要なパラメーター$theta$が揃えました。$theta$もインプット$X$と同じ28次元です。これで仮定関数は以下のような形になるでしょう。\n",
    "\n",
    "$$h(X) = \\theta_0 + \\theta_1 * X1 + \\theta_2 * X2 + \\theta_3 * X1X2 + \\theta_4 * X1^{2} + \\theta_5 * X2^{2} + ... $$\n",
    "\n",
    "そして、$h(X)$はsigmoid関数のインプット値として利用され、$0$或いは$1$の判別の推論を行うことになります。\n",
    "\n",
    "<h4>実際に決定境界 (decision boundary)も可視化してみましょう。</h4>\n",
    "\n",
    "グラフの形がかなり複雑なイメージになりそうですので、簡単にはグラフが描けそうではありません。でもpythonのmatplotlibライブラリーで簡単にできる方法があります。\n",
    "\n",
    "多分良品データの$h(X)$のアウトプットと不良品のアウトプットはそれぞれsigmoidにより$1$もしくは$0$のどちらかに判定されやすいレンジに収まっているはずですので、その二つのグループのアウトプットの間にはかなりの差が存在する可能性が高いです。そのため、とてもいい方法は等高線を活用することです。matplotlibのcontourグラフで差が大きい二つのグループの間に等高線を引くことが可能です。\n",
    "\n",
    "<h4>以下のコードを実行してみてください。</h4>"
   ]
  },
  {
   "cell_type": "code",
   "execution_count": null,
   "metadata": {},
   "outputs": [],
   "source": [
    "# draw scatter graph\n",
    "negative = data[:,2] == 0\n",
    "positive = data[:,2] == 1\n",
    "\n",
    "plt.scatter(data[positive][:,0],data[positive][:,1], marker = 'o', c = 'r')\n",
    "plt.scatter(data[negative][:,0],data[negative][:,1], marker = 'x', c = 'b')\n",
    "\n",
    "plt.xlabel(\"X1 : Exam 1 Score\")\n",
    "plt.ylabel(\"X2 : Exam 2 Score\")\n",
    "\n",
    "# draw contour graph\n",
    "#create a meshgrid of theta0 and theta1\n",
    "X1 = np.linspace(-1, 1.2, 50) # range of X1 from -1 to 1.2\n",
    "X2 = np.linspace(-1, 1.2, 50) # range of X2 from -1 to 1.2\n",
    "xx, yy = np.meshgrid(X1, X2, indexing='xy')\n",
    "\n",
    "#get h(x) result from all possible values of X1 and X2\n",
    "zz = np.zeros((X1.size, X2.size))\n",
    "for (i,j),v in np.ndenumerate(zz):\n",
    "    temp = np.array([xx[i,j], yy[i,j]], ndmin=2)\n",
    "    poly = PolynomialFeatures(6)\n",
    "    zz[i,j] = poly.fit_transform(temp).dot(res.x)\n",
    "    \n",
    "plt.contour(xx,yy,zz,0,colors='g')\n",
    "plt.show()"
   ]
  },
  {
   "cell_type": "markdown",
   "metadata": {},
   "source": [
    "いかがでしょうか。$sigmoid$関数の判定結果も実際に可視化してみましょう。3Dで描いてみるとても分かりやすいと思います。\n",
    "\n",
    "<h4>以下のコードを実行してみてください。</h4>"
   ]
  },
  {
   "cell_type": "code",
   "execution_count": null,
   "metadata": {},
   "outputs": [],
   "source": [
    "#draw 3D graph\n",
    "fig = plt.figure(figsize=(6,6))\n",
    "zz3d = sigmoid(zz)\n",
    "ax = Axes3D(fig)\n",
    "ax.plot_surface(xx, yy, zz3d, rstride=1, cstride=1, alpha=0.6, cmap=plt.cm.jet)\n",
    "\n",
    "ax.set_xlabel(\"X1 : Exam 1 Score\")\n",
    "ax.set_ylabel(\"X2 : Exam 2 Score\")\n",
    "ax.set_zlabel(r'$\\hat{Y} = sigmoid(z)$')"
   ]
  },
  {
   "cell_type": "markdown",
   "metadata": {},
   "source": [
    "グラフは分かりやすいですか。\n",
    "\n",
    "<h4>ここまでくると、推論モデルの作成はほぼ完成です。</h4>\n",
    "    \n",
    "最後にこの推論モデルの正答率を定量的に評価してみましょう。\n",
    "\n",
    "<h3>ここで課題です。推論モデルの正答率を評価する$accuracy$関数を作成してください。</h3>\n",
    "\n",
    "<h4>コード作成後、実行すると、自動採点を行います。$Correct$が表示されると成功です。</h4>\n",
    "\n",
    "<h4>注意：</h4>\n",
    "\n",
    "- 以下の部分にコードを書いてください。\n",
    "\n",
    "#------- Coding Start -------\n",
    "#------- Coding End -------\n",
    "\n",
    "- 前回作成したコードを持ってきてもいいです。"
   ]
  },
  {
   "cell_type": "code",
   "execution_count": null,
   "metadata": {},
   "outputs": [],
   "source": [
    "def accuracy(theta, X, Y, threshold = 0.5):\n",
    "    accu = 0.0\n",
    "    \n",
    "    #------- Coding Start -------\n",
    "\n",
    "    \n",
    "    \n",
    "    #------- Coding End -------\n",
    "    \n",
    "    return accu\n",
    "\n",
    "#-----------------------------------------------------------\n",
    "# Evaluation\n",
    "#-----------------------------------------------------------\n",
    "def evaluateAccuracy(value, result):\n",
    "    print(\"Accuracy = %3.2f%%\"%(value * 100), \" => Correct\") if value >= result else print(\"Accuracy = %3d%%\"%(value * 100), \" => Wrong\")\n",
    "        \n",
    "evaluateAccuracy(accuracy(res.x, X, Y),0.91)"
   ]
  },
  {
   "cell_type": "markdown",
   "metadata": {},
   "source": [
    "<h4>あなたは、もうちょっと正答率が高ければいいけど、この程度でも十分実際のプロダクトテスト工程で導入しても問題はないと判断しました。</h4>\n",
    "\n",
    "<h3>最後の課題です。</h3>\n",
    "    \n",
    "今回作成した推論モデルを使って、プロダクトの品質を判定する人工知能エンジン（$predict$関数）を作成してください。\n",
    "\n",
    "<h4>コード作成後、実行すると、自動採点を行います。5回$Correct$が表示されると完成です。</h4>\n",
    "\n",
    "注意：\n",
    "以下の部分にコードを書いてください。\n",
    "#------- Coding Start -------\n",
    "#------- Coding End -------"
   ]
  },
  {
   "cell_type": "code",
   "execution_count": null,
   "metadata": {},
   "outputs": [],
   "source": [
    "def predict(theta, X, threshold = 0.5):\n",
    "    p = 0\n",
    "\n",
    "    #------- Coding Start -------\n",
    "\n",
    "    \n",
    "    \n",
    "    #------- Coding Start -------\n",
    "  \n",
    "    return p.astype('int')\n",
    "\n",
    "#-----------------------------------------------------------\n",
    "# Evaluation\n",
    "#-----------------------------------------------------------\n",
    "def evaluatePredict(value, result):\n",
    "    print(\"Predicted Result = \", value, \" => Correct\") if value == result else print(\"Predicted Result = \", value, \" => Wrong\")\n",
    "\n",
    "evaluatePredict(predict(res.x, np.array([[0, 0]])),1)\n",
    "evaluatePredict(predict(res.x, np.array([[-0.25, 0.25]])),1)\n",
    "evaluatePredict(predict(res.x, np.array([[-0.3, -0.25]])),0)\n",
    "evaluatePredict(predict(res.x, np.array([[0.6, 0.0]])),0)\n",
    "evaluatePredict(predict(res.x, np.array([[-0.25, 0.8]])),1)"
   ]
  },
  {
   "cell_type": "markdown",
   "metadata": {},
   "source": [
    "<h4>大変お疲れ様でした。</h4>\n",
    "\n",
    "この結果をあなたの上司に報告してください。これで、高いボーナスゲットしてください。そして、あなたを助けてくれたKikiちゃんにも感謝の言葉を伝えてください。食事に誘うのも良いと思います。"
   ]
  },
  {
   "cell_type": "code",
   "execution_count": null,
   "metadata": {},
   "outputs": [],
   "source": []
  }
 ],
 "metadata": {
  "kernelspec": {
   "display_name": "Python 3",
   "language": "python",
   "name": "python3"
  },
  "language_info": {
   "codemirror_mode": {
    "name": "ipython",
    "version": 3
   },
   "file_extension": ".py",
   "mimetype": "text/x-python",
   "name": "python",
   "nbconvert_exporter": "python",
   "pygments_lexer": "ipython3",
   "version": "3.7.3"
  }
 },
 "nbformat": 4,
 "nbformat_minor": 2
}
