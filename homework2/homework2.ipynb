{
 "cells": [
  {
   "cell_type": "markdown",
   "metadata": {},
   "source": [
    "<h3>課題2 : Quick Sortのデバッグ</h3>\n",
    "\n",
    "課題1のコード作成はお疲れ様でした。課題2では、皆さんが作成したコードを2行で表現してみましたが、残念ながら不具合が残ってしまいました。\n",
    "\n",
    "このコードの不具合を直してみましょう。"
   ]
  },
  {
   "cell_type": "code",
   "execution_count": null,
   "metadata": {},
   "outputs": [],
   "source": [
    "def quicksort(input):\n",
    "    if len(input) <= 1: return input\n",
    "    \n",
    "    return quicksort([x for x in input[1:] if x < input[0]]) + [input[0]] + quicksort([y for y in input[1:] if y > input[0]])\n",
    "\n"
   ]
  },
  {
   "cell_type": "code",
   "execution_count": null,
   "metadata": {},
   "outputs": [],
   "source": []
  }
 ],
 "metadata": {
  "kernelspec": {
   "display_name": "Python 3",
   "language": "python",
   "name": "python3"
  },
  "language_info": {
   "codemirror_mode": {
    "name": "ipython",
    "version": 3
   },
   "file_extension": ".py",
   "mimetype": "text/x-python",
   "name": "python",
   "nbconvert_exporter": "python",
   "pygments_lexer": "ipython3",
   "version": "3.7.3"
  }
 },
 "nbformat": 4,
 "nbformat_minor": 2
}
