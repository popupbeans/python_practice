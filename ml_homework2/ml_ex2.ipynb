{
 "cells": [
  {
   "cell_type": "markdown",
   "metadata": {},
   "source": [
    "<h3>機械学習課題 2 : Linear Regression 回帰分析 Part 1 - Cost Function 目的関数</h3><br/>\n",
    "\n",
    "<h4>注意 : pythonコードを実行しながら読んでください!</h4><br/>\n",
    "\n",
    "前回の課題を一度復習しましょう。\n",
    "\n",
    "前回我々がやってきた作業は以下のことでした。\n",
    "\n",
    "1. 仮定関数を意識\n",
    "2. 学習させたいデータの可視化（テーブル、グラフ）\n",
    "3. データの分布パターンを目で確認し、パターンに一番合う線グラフを発見\n",
    "4. 上記グラフを方程式で表現\n",
    "5. この方程式を仮定関数とする。\n",
    "\n",
    "<br/>\n",
    "今回の課題では上記の中で,ステップ3、4について深掘りして行きたいと思います。\n",
    "実際に統計学では連続しているデータ分布パターンに対して、$Y = f(X)$のようなモデルをデータに当てはめることを回帰分析(Linear Regression)と言います。\n",
    "\n",
    "ワウ！これなんでしょう。頭が痛くなる方もいると思います。こんなの何年ぶりなんだろう。<br/>\n",
    "でも、安心してください。前回の課題で、既にに一度やっていましたね。タイトルがすごい物のように見えますが、思ったより簡単です。\n",
    "<br/>\n",
    "まず、前回の最後に使っていたデータを持ってきて、グラフを書いてみましょう。"
   ]
  },
  {
   "cell_type": "code",
   "execution_count": null,
   "metadata": {},
   "outputs": [],
   "source": [
    "#import required libraries\n",
    "import numpy as np\n",
    "import matplotlib.pyplot as plt\n",
    "\n",
    "data = np.loadtxt('ex1data1.txt', delimiter=',')\n",
    "\n",
    "# ------- Coding Start -------\n",
    "\n",
    "# ------- Coding End -------"
   ]
  },
  {
   "cell_type": "markdown",
   "metadata": {},
   "source": [
    "<h4>グラフは表示されましたか。</h4>\n",
    "\n",
    "$(X, Y)$点々の分布をみると、おそらく前回と同様の線形方程式でパターンを表すことができそうな気がしますが、形が綺麗な線形ではない為、どうすれば正しい方程式になるのか、よくわからない状況です。前回みたいに方程式のパラメーターが簡単に決まらないので、今回は仮定関数を以下のような一次方程式に表してみました。\n",
    "\n",
    "$$\\hat{Y} = h(X) = \\theta_0 + \\theta_1 * X$$\n",
    "\n",
    "まだ決まらない値を$\\theta_0$、$\\theta_1$にしました。これから我々のミッションはデータの分布のパターンに当てはまる方程式の最適な$\\theta_0$、$\\theta_1$を見つけることです。しかし、データがたくさん増えると人間はこの値を決めることができません。どうすればいいでしょう。それは、コンピューターに任すしかないです。\n",
    "\n",
    "最適な$\\theta_0$、$\\theta_1$を見つけるというのは、もう少し具体的には、上のコードで読み込んだ$(X,Y)$の全ての点と、仮定関数 $\\hat{Y} = \\theta_0 + \\theta_1 * X$の線との間の平均距離が一番小さくなる$\\theta_0$、$\\theta_1$の値を見つける意味です。\n",
    "\n",
    "平均距離が小さいか大きいかを確認するには何かの手法が必要です。ここではその距離を計算する手法を目的関数（Cost Function）$J$と呼ぶことにします。<br/>\n",
    "これから目的関数を作ってみましょう。まず、$(X, Y)$と仮定関数$\\hat{Y}$との距離を次のように表してみます。\n",
    "\n",
    "$$(Y - \\hat{Y})^2$$\n",
    "\n",
    "2乗を計算したのは$Y - \\hat{Y}$の結果が$0$より小さくなる可能性があるからです。ある$\\theta_0$、$\\theta_1$の値に対して、全ての$(X, Y)$のデータと仮定関数$\\hat{Y}$との距離の平均値$J(\\theta_0,\\theta_1)$は以下のように表すことが出来ます。（ここで$m$はデータ$Y$の数と考えれば良いです。）\n",
    "\n",
    "$$J(\\theta_0,\\theta_1) = \\frac{1}{2m}\\sum_{i=1}^m(\\hat{Y} - Y)^2$$\n",
    "\n",
    "これを少し形を変えると以下のようにも表すことが出来ます。\n",
    "\n",
    "$$J(\\theta_0,\\theta_1) = \\frac{1}{2m}\\sum_{i=1}^m((\\theta_0 + \\theta_1 * X) - Y)^2$$\n",
    "\n",
    "<h3>ここで課題です。目的関数$J(\\theta_0,\\theta_1)$をpythonで書いてみましょう。</h3>\n",
    "\n",
    "numpyライブラリを利用して簡単に作成できるはずです。numpyはコードの最初にimportしておきますので、使ってください。<br/>\n",
    "\n",
    "<h4>注意：</h4>\n",
    "\n",
    "- 以下の部分のみコードを書いてください。他の部分は修正しないでください。\n",
    "\n",
    "#------- Coding Start -------\n",
    "#------- Coding End -------\n",
    "\n",
    "<h4>コード作成後、実行すると、自動採点を行います。6回$Correct$が表示されると成功です。</h4>"
   ]
  },
  {
   "cell_type": "code",
   "execution_count": null,
   "metadata": {},
   "outputs": [],
   "source": [
    "# Cost Function\n",
    "def costFunction(X, Y, theta0, theta1):\n",
    "    J = 0\n",
    "    \n",
    "    # ------- Coding Start -------\n",
    "\n",
    "    # ------- Coding End -------\n",
    "    return J\n",
    "\n",
    "\n",
    "# Evaluation\n",
    "def evaluate(J, min, max):\n",
    "    print(\"J = \", J, \" => Correct\") if J > min and J < max else print(\"J = \", J, \" => Wrong\")\n",
    "\n",
    "evaluate(costFunction(X, Y, 1, 2), 75.20, 75.21)\n",
    "evaluate(costFunction(X, Y, 1, 1), 10.26, 10.27)\n",
    "evaluate(costFunction(X, Y, 1, 0.5), 8.32, 8.33)\n",
    "evaluate(costFunction(X, Y, 1, 0.7), 6.65, 6.66)\n",
    "evaluate(costFunction(X, Y, 0.5, 0.7), 6.34, 6.35)\n",
    "evaluate(costFunction(X, Y, -1, 1), 5.62, 5.63)"
   ]
  },
  {
   "cell_type": "markdown",
   "metadata": {},
   "source": [
    "<h4>いかがですか。良い結果が出ましたか。</h4>\n",
    "\n",
    "採点結果をみると$J$の計算結果が表示されます。ちょっと注意してみると$J$の値が減っていくことが見えますか。$costFunction$のパラメーターの$\\theta_0$、$\\theta_1$を少しづつ変えていくと、$J$が減っていきます。これから$\\theta_0$、$\\theta_1$が変わると仮定関数 $\\hat{Y} = \\theta_0 + \\theta_1 * X$の形がどう変わっていくのか見てみましょう。\n",
    "\n",
    "以下のコードを順番で実行しながら、グラフの形を見てください。\n",
    "\n",
    "<h4>1回目の採点 : $\\theta_0 = 1$、$\\theta_1 = 2$</h4>"
   ]
  },
  {
   "cell_type": "code",
   "execution_count": null,
   "metadata": {},
   "outputs": [],
   "source": [
    "# Graph for the first evaluation\n",
    "theta0 = 1\n",
    "theta1 = 2\n",
    "\n",
    "print(\"J =\", costFunction(X, Y, theta0, theta1))\n",
    "plt.scatter(X, Y)\n",
    "xx = np.arange(4.5,22.5)\n",
    "yy = theta0 + theta1 * xx\n",
    "plt.plot(xx,yy, c='r') \n",
    "plt.xlabel(\"X\")\n",
    "plt.ylabel(\"Y\")"
   ]
  },
  {
   "cell_type": "markdown",
   "metadata": {},
   "source": [
    "<h4>2回目の採点 : $\\theta_0 = 1$、$\\theta_1 = 1$</h4>"
   ]
  },
  {
   "cell_type": "code",
   "execution_count": null,
   "metadata": {},
   "outputs": [],
   "source": [
    "# Graph for the second evaluation\n",
    "theta0 = 1\n",
    "theta1 = 1\n",
    "\n",
    "print(\"J =\", costFunction(X, Y, theta0, theta1))\n",
    "plt.scatter(X, Y)\n",
    "xx = np.arange(4.5,22.5)\n",
    "yy = theta0 + theta1 * xx\n",
    "plt.plot(xx,yy, c='r') \n",
    "plt.xlabel(\"X\")\n",
    "plt.ylabel(\"Y\")"
   ]
  },
  {
   "cell_type": "markdown",
   "metadata": {},
   "source": [
    "<h4>3回目の採点 : $\\theta_0 = 1$、$\\theta_1 = 0.5$</h4>"
   ]
  },
  {
   "cell_type": "code",
   "execution_count": null,
   "metadata": {},
   "outputs": [],
   "source": [
    "# Graph for the third evaluation\n",
    "theta0 = 1\n",
    "theta1 = 0.5\n",
    "\n",
    "print(\"J =\", costFunction(X, Y, theta0, theta1))\n",
    "plt.scatter(X, Y)\n",
    "xx = np.arange(4.5,22.5)\n",
    "yy = theta0 + theta1 * xx\n",
    "plt.plot(xx,yy, c='r') \n",
    "plt.xlabel(\"X\")\n",
    "plt.ylabel(\"Y\")"
   ]
  },
  {
   "cell_type": "markdown",
   "metadata": {},
   "source": [
    "<h4>4回目の採点 : $\\theta_0 = 1$、$\\theta_1 = 0.7$</h4>"
   ]
  },
  {
   "cell_type": "code",
   "execution_count": null,
   "metadata": {},
   "outputs": [],
   "source": [
    "# Graph for the fourth evaluation\n",
    "theta0 = 1\n",
    "theta1 = 0.7\n",
    "\n",
    "print(\"J =\", costFunction(X, Y, theta0, theta1))\n",
    "plt.scatter(X, Y)\n",
    "xx = np.arange(4.5,22.5)\n",
    "yy = theta0 + theta1 * xx\n",
    "plt.plot(xx,yy, c='r') \n",
    "plt.xlabel(\"X\")\n",
    "plt.ylabel(\"Y\")"
   ]
  },
  {
   "cell_type": "markdown",
   "metadata": {},
   "source": [
    "<h4>5回目の採点 : $\\theta_0 = 0.5$、$\\theta_1 = 0.7$</h4>"
   ]
  },
  {
   "cell_type": "code",
   "execution_count": null,
   "metadata": {},
   "outputs": [],
   "source": [
    "# Graph for the fifth evaluation\n",
    "theta0 = 0.5\n",
    "theta1 = 0.7\n",
    "\n",
    "print(\"J =\", costFunction(X, Y, theta0, theta1))\n",
    "plt.scatter(X, Y)\n",
    "xx = np.arange(4.5,22.5)\n",
    "plt.plot(xx,yy, c='r') \n",
    "plt.xlabel(\"X\")\n",
    "plt.ylabel(\"Y\")"
   ]
  },
  {
   "cell_type": "markdown",
   "metadata": {},
   "source": [
    "<h4>6回目の採点 : $\\theta_0 = -1$、$\\theta_1 = 1$</h4>"
   ]
  },
  {
   "cell_type": "code",
   "execution_count": null,
   "metadata": {},
   "outputs": [],
   "source": [
    "# Graph for the sixth evaluation\n",
    "theta0 = -1\n",
    "theta1 = 1\n",
    "\n",
    "print(\"J =\", costFunction(X, Y, theta0, theta1))\n",
    "plt.scatter(X, Y)\n",
    "xx = np.arange(4.5,22.5)\n",
    "yy = theta0 + theta1 * xx\n",
    "plt.plot(xx,yy, c='r') \n",
    "plt.xlabel(\"X\")\n",
    "plt.ylabel(\"Y\")"
   ]
  },
  {
   "cell_type": "markdown",
   "metadata": {},
   "source": [
    "<h4>いかがでしょうか。</h4>\n",
    "\n",
    "$\\theta_0$、$\\theta_1$が変わると$J$がどう変わるのか、そして仮定関数の線形グラフの形がどう変わるのか確認しましたか。\n",
    "\n",
    "これで今回の最後ですが、終わる前にもう一つやって見ましょう。\n",
    "\n",
    "<h3>ここで本当の最後の課題です。目的関数$J(\\theta_0,\\theta_1)$を$4.5$以下まで減らしてみましょう。</h3>\n",
    "\n",
    "適切な$\\theta_0$、$\\theta_1$の値を調べてみましょう。<br/>\n",
    "\n",
    "<h4>注意：</h4>\n",
    "\n",
    "- 以下の部分のみコードを書いてください。他の部分は修正しないでください。\n",
    "\n",
    "#------- Coding Start -------\n",
    "#------- Coding End -------\n",
    "\n",
    "<h4>コード作成後、実行すると、自動採点を行います。$Correct$が表示されると成功です。</h4>"
   ]
  },
  {
   "cell_type": "code",
   "execution_count": null,
   "metadata": {},
   "outputs": [],
   "source": [
    "#------- Coding Start -------\n",
    "theta0 = 0  # replace zero with other value\n",
    "theta1 = 0  # replace zero with other value\n",
    "#------- Coding End -------\n",
    "\n",
    "evaluate(costFunction(X, Y, theta0, theta1), 0, 4.5)\n",
    "plt.scatter(X, Y)\n",
    "xx = np.arange(4.5,22.5)\n",
    "yy = theta0 + theta1 * xx\n",
    "plt.plot(xx,yy, c='r') \n",
    "plt.xlabel(\"X\")\n",
    "plt.ylabel(\"Y\")"
   ]
  },
  {
   "cell_type": "markdown",
   "metadata": {},
   "source": [
    "<h3>お疲れ様でした。次に進めましょう。</h3>"
   ]
  },
  {
   "cell_type": "code",
   "execution_count": null,
   "metadata": {},
   "outputs": [],
   "source": []
  },
  {
   "cell_type": "code",
   "execution_count": null,
   "metadata": {},
   "outputs": [],
   "source": []
  }
 ],
 "metadata": {
  "kernelspec": {
   "display_name": "Python 3",
   "language": "python",
   "name": "python3"
  },
  "language_info": {
   "codemirror_mode": {
    "name": "ipython",
    "version": 3
   },
   "file_extension": ".py",
   "mimetype": "text/x-python",
   "name": "python",
   "nbconvert_exporter": "python",
   "pygments_lexer": "ipython3",
   "version": "3.7.3"
  }
 },
 "nbformat": 4,
 "nbformat_minor": 2
}
