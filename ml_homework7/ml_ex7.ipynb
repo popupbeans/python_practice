{
 "cells": [
  {
   "cell_type": "markdown",
   "metadata": {},
   "source": [
    "<h3>機械学習課題 7 : Logistic Regression ロジスティック回帰 Part 1 - Sigmoid Function シグモイド関数</h3><br/>\n",
    "\n",
    "<h4>注意 : pythonコードを実行しながら読んでください!</h4><br/>\n",
    "\n",
    "前回までは回帰分析(Linear Regression)を活用した教師あり機械学習について勉強してみました。回帰分析の場合、教師データから、ある値を予測するケースで良く使う方式ですが、今回はロジスティック回帰(Logistic Regression)という新しい方式について考えてみましょう。\n",
    "\n",
    "基本的にロジスティック回帰(Logistic Regression)は判別問題でよく使います。例えば、ある写真を見て、ねこかいぬかを判別したり、手書きの数字を認識したりするなどで使えます。\n",
    "\n",
    "今までやって見た内容とは全然違う形のように見えますが、実はそうでもないです。これからは皆さんが今まで作ってみた仮定関数の形を少し変えてみますが、その前にちょっと新しい数式を持ってきてみます。\n",
    "\n",
    "$$g(z) = \\frac{1}{1 + e^{-z}}$$\n",
    "\n",
    "これはシグモイド関数(Sigmoid Function)或いはロジスティック関数(Logistic Function)と呼ばれるものです。これは何をする為に必要かというと、$z$を$0$から$1$までの範囲の値に変換してもらえるものです。シグモイド関数のグラフを書いてみるともっと分かりやすくなります。\n",
    "\n",
    "<h3>ここで課題です。シグモイド関数(Sigmoid Function)を作成してください。</h3>\n",
    "\n",
    "必要なライブラリは最初にimportしておきましたので、使ってください。<br/>\n",
    "\n",
    "<h4>コード作成後、実行すると、自動採点を行います。3回$Correct$が表示されると成功です。</h4>\n",
    "\n",
    "<h4>注意：</h4>\n",
    "\n",
    "- 以下の部分にコードを書いてください。\n",
    "\n",
    "#------- Coding Start -------\n",
    "#------- Coding End -------\n",
    "\n",
    "- $e$はネイピア数というものです。詳しく理解する必要はありませんが、必要でしたら以下のリンクを参考にしてください。\n",
    "\n",
    "https://ja.wikipedia.org/wiki/%E3%83%8D%E3%82%A4%E3%83%94%E3%82%A2%E6%95%B0\n",
    "\n",
    "- $e^{-z}$のエクスポネンシャルの計算はnumpyのexp関数を使ってください。\n",
    "\n",
    "https://docs.scipy.org/doc/numpy/reference/generated/numpy.exp.html\n"
   ]
  },
  {
   "cell_type": "code",
   "execution_count": null,
   "metadata": {},
   "outputs": [],
   "source": [
    "import matplotlib.pyplot as plt\n",
    "import numpy as np\n",
    "\n",
    "def sigmoid(z):\n",
    "    y = z # initialize value to avoid error\n",
    "    \n",
    "    #------- Coding Start -------\n",
    "\n",
    "    #------- Coding End -------\n",
    "    \n",
    "    return y\n",
    "\n",
    "#-----------------------------------------------------------\n",
    "# Evaluation\n",
    "#-----------------------------------------------------------\n",
    "def evaluate(g, min, max):\n",
    "    print(\"sigmoid = \", g, \" => Correct\") if g >= min and g <= max else print(\"sigmoid = \", g, \" => Wrong\")\n",
    "\n",
    "evaluate(sigmoid(5), 0.99330714907, 0.99330714908)    \n",
    "evaluate(sigmoid(0), 0.5, 0.5)\n",
    "evaluate(sigmoid(-5), 0.00669285092, 0.00669285093)\n",
    "\n",
    "z = np.arange(-10,10) \n",
    "g = sigmoid(z) \n",
    "plt.plot(z,g, c='r') \n",
    "plt.xlabel(\"$z$\")\n",
    "plt.ylabel(\"$g = sigmoid(z)$\")"
   ]
  },
  {
   "cell_type": "markdown",
   "metadata": {},
   "source": [
    "<h4>採点結果、問題なければ、いい感じの$S$字のグラフも表示されると思います。</h4>\n",
    "\n",
    "良くみると、ある特徴が見えてきます。具体的には、$z$の値が大きくなればなるほど、$g$の値は$1$に近くなります。逆に$z$の値がマイナスの方向に大きくなればなるほど$0$に近づきます。この特徴を生かして、何かのインプットに対して$0$に近づく、或いは$1$に近づくモデルを作ると最初に話した判別問題で使えるようになります。\n",
    "\n",
    "このシグモイド関数(Sigmoid Function)を、皆さんが前回まで学んだ仮定関数の形にすることで、ロジスティック回帰(Logistic Regression)を用いた機械学習の推論モデルが作れるようになります。\n",
    "\n",
    "前回学んだ仮定関数をリマインドしてみましょう。\n",
    "\n",
    "$$\\hat{Y} = h(X) = \\theta_0 + \\theta_1 * X_1 + \\theta_2 * X_2 + ... + \\theta_n * X_n$$\n",
    "\n",
    "<br/>\n",
    "\n",
    "これをシグモイド関数(Sigmoid Function)に繋ぐと、以下のような形になります。\n",
    "\n",
    "$$\\hat{Y} = \\frac{1}{1 + e^{-h(X)}}$$\n",
    "\n",
    "<br/>\n",
    "\n",
    "こうなると、$\\hat{Y}$の値は$0$に近いか、$1$に近いかの形になりますので、機械学習をバイナリーの考え方で判別問題への適用が可能になります。$h(X)$が$0.5$以上ですと$1$、$0.5$以下ですと$0$という感じですかね。\n",
    "\n",
    "今回は簡単ですが、以上です。次回は以前学んだ目的関数(Cost Function)と最急降下法(Gradient Descent)の形を変えてロジスティック回帰(Logistic Regression)を用いた機械学習モデルを完成します。\n",
    "\n",
    "<h4>お疲れ様でした。</h4>"
   ]
  },
  {
   "cell_type": "code",
   "execution_count": null,
   "metadata": {},
   "outputs": [],
   "source": []
  }
 ],
 "metadata": {
  "kernelspec": {
   "display_name": "Python 3",
   "language": "python",
   "name": "python3"
  },
  "language_info": {
   "codemirror_mode": {
    "name": "ipython",
    "version": 3
   },
   "file_extension": ".py",
   "mimetype": "text/x-python",
   "name": "python",
   "nbconvert_exporter": "python",
   "pygments_lexer": "ipython3",
   "version": "3.7.3"
  }
 },
 "nbformat": 4,
 "nbformat_minor": 2
}
