{
 "cells": [
  {
   "cell_type": "markdown",
   "metadata": {},
   "source": [
    "<h3>機械学習課題 1 : Hypothesis Function 仮定関数</h3><br/>\n",
    "これから教師ありの機械学習の基本概念について練習してみましょうか。<br/>\n",
    "\n",
    "<h4>注意 : pythonコードを実行しながら読んでください!</h4><br/>\n",
    "\n",
    "\n",
    "機械学習で仮定関数（hypothesis function）というのは人間の脳と同じ物です。実際に学習データを使ってコンピューターを学習させ、仮定関数を完成していくのが機械学習の学習です。まず、仮定関数$h$を簡単な式に書くと\n",
    "\n",
    "$$h : X -> Y$$\n",
    "\n",
    "です。うん、ちょっと違う表現にしてみると\n",
    "\n",
    "$$Y = h(X)$$\n",
    "\n",
    "で良いですかね。具体的には、あるインプット$X$に対してAI推論の結果が$Y$という意味ですね。AIの推論モデルを作るというのはこの仮定関数を完成する意味にもなります。<br/>\n",
    "\n",
    "ちょっと練習してみましょう。<br/>\n",
    "\n",
    "Kikiちゃんは数学が大好きで、一所懸命勉強しています。その結果、毎回点数が上がっています。嬉しいでしょう。これから、Kikiちゃんの次の数学試験点数を予測するAI推論モデルを作成してみます。<br/>\n",
    "\n",
    "点数のデータ形式はnumpyのarrayを使って作ります。（必要なライブラリはコードの最初にimportしておきますので、使ってください。）<br/>\n"
   ]
  },
  {
   "cell_type": "code",
   "execution_count": null,
   "metadata": {},
   "outputs": [],
   "source": [
    "#import required libraries\n",
    "import pandas as pd\n",
    "import numpy as np\n",
    "import matplotlib.pyplot as plt\n",
    "\n",
    "kiki_score = np.array([[1,50],[2,60],[3,65],[4,80]]) # 2D list to keep Kiki-chan's math score\n",
    "print(kiki_score)"
   ]
  },
  {
   "cell_type": "markdown",
   "metadata": {},
   "source": [
    "Kikiちゃんの点数をpythonコードで表現してみましたが、ちょっと見にくいでしょう。左の1,2,3,4は試験の回数、右の数値は点数と考えてください。ちょっと分かり難いのでラベルを付けて分かりやすくしましょう。pandasを使ってラベルを付けることが可能です。"
   ]
  },
  {
   "cell_type": "code",
   "execution_count": null,
   "metadata": {},
   "outputs": [],
   "source": [
    "df = pd.DataFrame(kiki_score,columns=['test number', 'score'])\n",
    "df"
   ]
  },
  {
   "cell_type": "markdown",
   "metadata": {},
   "source": [
    "分かりやすくなりましたか。これを教師データとして用いて、5番目数学試験結果を予測する推論モデルを作成してみます。まず、もうちょっとデータを分かりやすくグラフで表現しましょう。グラフはmatplotlib.pyplot使って表示します。（必要なライブラリはコードの最初でimport済みです。）"
   ]
  },
  {
   "cell_type": "code",
   "execution_count": null,
   "metadata": {},
   "outputs": [],
   "source": [
    "X = kiki_score[:,0]\n",
    "Y = kiki_score[:,1] \n",
    "plt.scatter(X, Y)\n",
    "plt.xlabel(\"Math Test Number\")\n",
    "plt.ylabel(\"Kiki's Math Score\")"
   ]
  },
  {
   "cell_type": "markdown",
   "metadata": {},
   "source": [
    "うん？なんか面白いパターンが見えませんか。試験回数が増えると比例して点数も上がっているようですね。ちょっと。。。これやってみましょう。"
   ]
  },
  {
   "cell_type": "code",
   "execution_count": null,
   "metadata": {},
   "outputs": [],
   "source": [
    "X = kiki_score[:,0]\n",
    "Y = kiki_score[:,1] \n",
    "plt.scatter(X, Y) # added\n",
    "xx = np.arange(1,7) # added\n",
    "yy = xx * 10 + 38 # added\n",
    "plt.plot(xx,yy, c='r') # added\n",
    "plt.xlabel(\"Math Test Number\")\n",
    "plt.ylabel(\"Kiki's Math Score\")"
   ]
  },
  {
   "cell_type": "markdown",
   "metadata": {},
   "source": [
    "赤い線を一本引いてみました。どうですか。4個の点数データの変動傾向がこの赤い線で表現できているように見えませんか。この赤い線は\n",
    "\n",
    "$$Y = 10 * X + 38$$\n",
    "\n",
    "の線形方程式でも表現できます。（10と38は私がそれっぽい数値で適当に決めました。）<br/>\n",
    "あれ？もしかしたら、$X$の値を変えたら面白い結果が出てくるかも？？？"
   ]
  },
  {
   "cell_type": "code",
   "execution_count": null,
   "metadata": {},
   "outputs": [],
   "source": [
    "X = 5\n",
    "Y = 10 * X + 38\n",
    "print(\"Test Result :\",Y)"
   ]
  },
  {
   "cell_type": "markdown",
   "metadata": {},
   "source": [
    "おおお、すごい！先の方程式を使わず、上のように5番目数学試験の点数の予測ができますよね。もしかしたら、6番目の試験結果も予測できるかも。"
   ]
  },
  {
   "cell_type": "code",
   "execution_count": null,
   "metadata": {},
   "outputs": [],
   "source": [
    "X = 6\n",
    "Y = 10 * X + 38\n",
    "print(\"Test Result :\",Y)"
   ]
  },
  {
   "cell_type": "markdown",
   "metadata": {},
   "source": [
    "すごい！この方程式を使って、6番目の試験結果まで予測できました。<br/>\n",
    "\n",
    "面白いでしょう。ここでちょっと最初に説明した仮定関数に戻りたいと思います。もし、先ほどの線形方程式が仮定関数という物だとすると、\n",
    "\n",
    "$$Y = h(X) = 10 * X + 38$$\n",
    "\n",
    "今、我々はすごくシンプルな機械学習推論モデルを一つ作ったという意味になります。この推論モデルを使って、Kikiちゃんは6番目の試験でほぼ100点満点近く取れるとコンピューターが予測してくれました。嬉しい！<br/>\n",
    "\n",
    "<h2>おめでとうございます！</h2>\n",
    "\n",
    "ここまで我々がやってきた作業は以下の通りです。\n",
    "\n",
    "1. 仮定関数を意識\n",
    "2. 学習させたいデータの可視化（テーブル、グラフ）\n",
    "3. データの分布パターンを目で確認し、パターンに一番合う線グラフを発見\n",
    "4. 上記グラフを方程式で表現\n",
    "5. この方程式を仮定関数とする。これが教師有り機械学習の推論モデルです！\n",
    "\n",
    "<br/>\n",
    "<h4>教師あり学習の問題には「1)データを予測」と、「2) 分類」の二つの種類があります。上記は1)のデータ予測問題の代表的な推論モデル作成プロセスです。</h4><br/><br/>\n",
    "簡単そうに見えますが、今回は教師データ四つの非常にシンプルで2次元グラフでも可視化できていますので、簡単に人間の目で確認して仮定関数の作成ができましたが、例えば、教師データが数百万個で、人間の目で確認できない多次元のデータだとすると人間が簡単に処理するのは不可能です。次回には機械による学習処理に必要な基盤知識の取得と実際の練習までやっていきたいと思います。\n"
   ]
  },
  {
   "cell_type": "markdown",
   "metadata": {},
   "source": [
    "<h3>今回の本当の課題</h3>\n",
    "\n",
    "終わる前に、最後にもう一度python練習しましょう。以下のコードで読み込んだデータを上記のグラフ表示用ライブラリを用いて可視化し、データの分布パターンを方程式で表現し、線グラフの表示までやってみましょう。データの読み込みはnumpyライブラリ、グラフの表示はmatplotlib.pyplotライブラリを利用します。\n",
    "\n",
    "#------- Coding Start -------\n",
    "#------- Coding End -------\n",
    "\n",
    "の間にコードを作成してください。（githubからex1data1.txtファイルをダウンロードし、ローカルのipynbと同じ場所に保存してからコードを作成してください。）"
   ]
  },
  {
   "cell_type": "code",
   "execution_count": null,
   "metadata": {},
   "outputs": [],
   "source": [
    "data = np.loadtxt('ex1data1.txt', delimiter=',')\n",
    "\n",
    "# ------- Coding Start -------\n",
    "# ------- Coding End -------"
   ]
  },
  {
   "cell_type": "markdown",
   "metadata": {},
   "source": [
    "できましたか。多分、Kikiちゃんの数学点数みたいなシンプルな分布ではないので、どこかで線を引いたとしても、合っているか確信はないはずです。<br/>\n",
    "<h4>次回からは実際のコンピューターの学習による仮定関数作成に向けて、必要な基盤理論を実際にpythonで作成してみましょう。お疲れ様でした。</h4>"
   ]
  },
  {
   "cell_type": "code",
   "execution_count": null,
   "metadata": {},
   "outputs": [],
   "source": []
  }
 ],
 "metadata": {
  "kernelspec": {
   "display_name": "Python 3",
   "language": "python",
   "name": "python3"
  },
  "language_info": {
   "codemirror_mode": {
    "name": "ipython",
    "version": 3
   },
   "file_extension": ".py",
   "mimetype": "text/x-python",
   "name": "python",
   "nbconvert_exporter": "python",
   "pygments_lexer": "ipython3",
   "version": "3.7.3"
  }
 },
 "nbformat": 4,
 "nbformat_minor": 2
}
